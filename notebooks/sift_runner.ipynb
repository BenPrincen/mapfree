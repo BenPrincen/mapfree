{
 "cells": [
  {
   "cell_type": "code",
   "execution_count": null,
   "id": "96b75002-88cc-4a24-b618-7d8aba2e05cd",
   "metadata": {},
   "outputs": [],
   "source": [
    "%load_ext autoreload\n",
    "%autoreload 2\n",
    "import os\n",
    "import sys\n",
    "import numpy as np\n",
    "import matplotlib.pyplot as plt   \n",
    "HOME = os.environ[\"HOME\"]\n",
    "map_free_path = os.path.join(HOME, \"map_free_localization/mapfree\")\n",
    "\n",
    "if os.path.exists(map_free_path):\n",
    "    sys.path.append(map_free_path)\n",
    "\n",
    "from torch.utils.data import DataLoader\n",
    "from yacs.config import CfgNode as cfg\n",
    "from lib.eval.sift_runner import SiftRunner\n",
    "from lib.dataset.mapfree import MapFreeDataset\n",
    "from lib.eval.eval import Eval"
   ]
  },
  {
   "cell_type": "code",
   "execution_count": null,
   "id": "c1488883-648d-4276-9889-588ad263f7fd",
   "metadata": {},
   "outputs": [],
   "source": [
    "data_dir = \"../lib/tests/test_data\"\n",
    "config_path = os.path.join(data_dir, \"testset.yaml\")\n",
    "config = cfg()\n",
    "config.set_new_allowed(True)\n",
    "config.DEBUG = False\n",
    "\n",
    "if os.path.exists(config_path):\n",
    "    config.merge_from_file(config_path)\n",
    "    # explicitely setting to None because if loading from yaml it's a string\n",
    "    config.DATASET.SCENES = None\n",
    "    config.DATASET.AUGMENTATION_TYPE = None\n",
    "    config.DATASET.DATA_ROOT = '/media/jprincen/HD/Map Free Localization'\n",
    "    config.DATASET.DEPTH_ROOT = '/media/jprincen/HD/Map Free Localization/mickey_depths'\n",
    "else:\n",
    "    config = None\n",
    "dataset = MapFreeDataset(config, \"val\")\n",
    "dataloader = DataLoader(\n",
    "    dataset,\n",
    "    batch_size=1,\n",
    ")\n",
    "config_path = os.path.join(\"../config/sift\", \"sift_config.yaml\")\n",
    "sift_runner = SiftRunner(config_path)\n"
   ]
  },
  {
   "cell_type": "code",
   "execution_count": null,
   "id": "9d8774dc-d97d-4248-8012-51f029f876cb",
   "metadata": {},
   "outputs": [],
   "source": [
    "estimated_poses = sift_runner.run(dataloader)\n"
   ]
  },
  {
   "cell_type": "code",
   "execution_count": null,
   "id": "23ab3637-64a1-4abb-a708-c58da15fc352",
   "metadata": {},
   "outputs": [],
   "source": [
    "eval = Eval.fromMapFree(estimated_poses, dataset)"
   ]
  },
  {
   "cell_type": "code",
   "execution_count": null,
   "id": "93cbc221-ecc4-451b-982b-693cc4bbad6e",
   "metadata": {},
   "outputs": [],
   "source": [
    "np.median(eval.results['trans_err']), np.median(eval.results['rot_err']), np.median(eval.results['reproj_err'])"
   ]
  },
  {
   "cell_type": "code",
   "execution_count": null,
   "id": "0d3e5783-94bf-46c5-b574-af9c84374a2c",
   "metadata": {},
   "outputs": [],
   "source": [
    "reproj_err = eval.results['reproj_err']\n",
    "_ = plt.hist(reproj_err)"
   ]
  },
  {
   "cell_type": "code",
   "execution_count": null,
   "id": "3163b6e4-4396-44bb-bb3f-a5c9ba9205e2",
   "metadata": {},
   "outputs": [],
   "source": [
    "trans_err = eval.results['trans_err']\n",
    "_ = plt.hist(trans_err)"
   ]
  },
  {
   "cell_type": "code",
   "execution_count": null,
   "id": "2a7cb1df-183d-4f8b-b963-f75c87a1dce2",
   "metadata": {},
   "outputs": [],
   "source": [
    "rot_err = eval.results['rot_err']\n",
    "_ = plt.hist(rot_err)"
   ]
  },
  {
   "cell_type": "code",
   "execution_count": null,
   "id": "5bf6a6d1-50ef-48a0-bc9b-4f006aac0775",
   "metadata": {},
   "outputs": [],
   "source": []
  }
 ],
 "metadata": {
  "kernelspec": {
   "display_name": "mickey",
   "language": "python",
   "name": "mickey"
  },
  "language_info": {
   "codemirror_mode": {
    "name": "ipython",
    "version": 3
   },
   "file_extension": ".py",
   "mimetype": "text/x-python",
   "name": "python",
   "nbconvert_exporter": "python",
   "pygments_lexer": "ipython3",
   "version": "3.8.17"
  }
 },
 "nbformat": 4,
 "nbformat_minor": 5
}
