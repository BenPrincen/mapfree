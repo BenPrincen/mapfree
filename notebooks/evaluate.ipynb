{
 "cells": [
  {
   "cell_type": "code",
   "execution_count": 1,
   "id": "f191ac0e-a487-408d-85c1-a6bf77d098d0",
   "metadata": {
    "scrolled": true
   },
   "outputs": [
    {
     "name": "stderr",
     "output_type": "stream",
     "text": [
      "/home/vgmachinist/anaconda3/envs/mickey/lib/python3.8/site-packages/requests/__init__.py:86: RequestsDependencyWarning: Unable to find acceptable character detection dependency (chardet or charset_normalizer).\n",
      "  warnings.warn(\n"
     ]
    }
   ],
   "source": [
    "import sys\n",
    "import os\n",
    "\n",
    "sys.path.append(\n",
    "    sys.path[0].rsplit(os.sep, 1)[0]\n",
    ")\n",
    "\n",
    "from pathlib import Path\n",
    "from collections import defaultdict\n",
    "from dataclasses import dataclass\n",
    "from zipfile import ZipFile\n",
    "\n",
    "import torch\n",
    "import numpy as np\n",
    "from tqdm import tqdm\n",
    "\n",
    "from config.default import cfg\n",
    "from lib.datasets.datamodules import DataModule\n",
    "from lib.models.builder import build_model\n",
    "from lib.utils.data import data_to_model_device\n",
    "from lib.demo.utils import Pose, predict, save_submission, compute_scene_metrics \n",
    "from transforms3d.quaternions import mat2quat\n",
    "\n",
    "from pathlib import Path\n",
    "from io import TextIOWrapper\n",
    "import json\n",
    "import logging\n",
    "import matplotlib.pyplot as plt\n",
    "import numpy as np\n",
    "\n",
    "from benchmark.utils import load_poses, subsample_poses, load_K, precision_recall\n",
    "from benchmark.metrics import MetricManager, Inputs\n",
    "import benchmark.config as config\n",
    "from config.default import cfg\n",
    "\n",
    "import matplotlib\n",
    "import matplotlib.image as mpimg"
   ]
  },
  {
   "cell_type": "markdown",
   "id": "7b3df5d7-9e21-4f76-9ad7-3da27fd1149c",
   "metadata": {},
   "source": [
    "Current Idea:\n",
    "Loop through validation set and output the difference in distance and rotation from the ground truth\n",
    "\n",
    "Info:\n",
    "- `intrinsics.txt` encodes per frame intrinsics with the following format\n",
    "    - `frame_path fx fy cx cy frame_width frame_height`\n",
    "- `poses.txt` encodes per frame extrinsics with the following format:\n",
    "    - `frame_path qw qx qy qz tx ty tz` where `q` is the quaternion encoding rotation"
   ]
  },
  {
   "cell_type": "markdown",
   "id": "416bd072-0f0c-477e-8184-d83095e36bdb",
   "metadata": {},
   "source": [
    "First get results from running on dataset"
   ]
  },
  {
   "cell_type": "code",
   "execution_count": 2,
   "id": "1f10409a-4116-4782-8ac4-839d2c82c789",
   "metadata": {},
   "outputs": [],
   "source": [
    "# set type of dataset split, checkpoint path, config path\n",
    "dataset_split = 'val'\n",
    "checkpoint = '../weights/mickey.ckpt'\n",
    "config = '../config/MicKey/curriculum_learning.yaml'\n",
    "output_root = Path('..', 'results')\n",
    "\n",
    "cfg.merge_from_file('../config/datasets/mapfree.yaml')\n",
    "cfg.merge_from_file(config)\n",
    "\n",
    "cfg.DATASET.DATA_ROOT = os.path.join('..', cfg.DATASET.DATA_ROOT)\n",
    "\n",
    "# Create dataloader\n",
    "if dataset_split == 'test':\n",
    "    cfg.TRAINING.BATCH_SIZE = 8\n",
    "    cfg.TRAINING.NUM_WORKERS = 8\n",
    "    dataloader = DataModule(cfg, drop_last_val=False).test_dataloader()\n",
    "elif dataset_split == 'val':\n",
    "    cfg.TRAINING.BATCH_SIZE = 16\n",
    "    cfg.TRAINING.NUM_WORKERS = 8\n",
    "    dataloader = DataModule(cfg, drop_last_val=False).val_dataloader()\n",
    "else:\n",
    "    raise NotImplemented(f'Invalid split: {dataset_split}')\n",
    "\n",
    "# Create model\n",
    "model = build_model(cfg, checkpoint)"
   ]
  },
  {
   "cell_type": "code",
   "execution_count": 4,
   "id": "a204518e-7cc6-4dd0-bd5e-3c9b222090f6",
   "metadata": {},
   "outputs": [
    {
     "name": "stderr",
     "output_type": "stream",
     "text": [
      "  0%|                                                                                                                                                                                                                                                        | 0/463 [00:04<?, ?it/s]\n"
     ]
    }
   ],
   "source": [
    "results_dict = defaultdict(list)\n",
    "i = 0\n",
    "for data in tqdm(dataloader):\n",
    "    data = data_to_model_device(data, model)\n",
    "    with torch.no_grad():\n",
    "        R_batched, t_batched = model(data)\n",
    "        break\n",
    "    # for i_batch in range(len(data['scene_id'])):\n",
    "    #     corr_dir_elems = [cfg.DATASET.DATA_ROOT, dataset_split, data['scene_id'][i_batch], data['pair_names'][1][i_batch]]\n",
    "    #     corr_save_path = os.path.join(*corr_dir_elems)\n",
    "    #     corr_save_path = os.path.splitext(corr_save_path)[0] + \".txt\"\n",
    "    #     corr_save_path = corr_save_path.replace(os.sep + \"seq1\" + os.sep, os.sep + \"corr\" + os.sep)\n",
    "    #     corr_dir_path = os.path.split(corr_save_path)[0]\n",
    "    #     if not os.path.exists(corr_dir_path):\n",
    "    #         os.mkdir(os.path.split(corr_save_path)[0])\n",
    "        \n",
    "    #     refer_fname = data['pair_names'][0][i_batch]\n",
    "    #     query_fname = data['pair_names'][1][i_batch]\n",
    "    #     R = R_batched[i_batch].unsqueeze(0).detach().cpu().numpy()\n",
    "    #     t = t_batched[i_batch].reshape(-1).detach().cpu().numpy()\n",
    "    #     inliers = data['inliers'][i_batch].item()\n",
    "\n",
    "    #     np.savetxt(corr_save_path, data['inliers_list'][i_batch].detach().cpu())\n",
    "        \n",
    "    #     scene = data['scene_id'][i_batch]\n",
    "    #     query_img = data['pair_names'][1][i_batch]\n",
    "        \n",
    "    #     # ignore frames without poses (e.g. not enough feature matches)\n",
    "    #     if np.isnan(R).any() or np.isnan(t).any() or np.isinf(t).any():\n",
    "    #         continue\n",
    "\n",
    "    #     # populate results_dict\n",
    "    #     estimated_pose = Pose(image_name=query_img,\n",
    "    #                           q=mat2quat(R).reshape(-1),\n",
    "    #                           t=t.reshape(-1),\n",
    "    #                           inliers=inliers)\n",
    "    #     results_dict[scene].append(estimated_pose)\n",
    "        "
   ]
  },
  {
   "cell_type": "code",
   "execution_count": 18,
   "id": "60e1d31e-618d-443b-910b-e8b4a3ff7e9c",
   "metadata": {},
   "outputs": [],
   "source": [
    "def data_to_cpu(data: dict):\n",
    "    for k, v in data.items():\n",
    "        if torch.is_tensor(v):\n",
    "            data[k] = v.detach().cpu()\n",
    "        if k == 'inliers_list':\n",
    "            data[k] = [i.detach().cpu() for i in data[k]]\n",
    "data_to_cpu(data)      "
   ]
  },
  {
   "cell_type": "code",
   "execution_count": 21,
   "id": "da26578b-e786-4c69-9241-c282443eaad0",
   "metadata": {},
   "outputs": [
    {
     "data": {
      "text/plain": [
       "torch.Size([16, 3, 720, 540])"
      ]
     },
     "execution_count": 21,
     "metadata": {},
     "output_type": "execute_result"
    }
   ],
   "source": [
    "data['image0'].shape"
   ]
  },
  {
   "cell_type": "code",
   "execution_count": 8,
   "id": "91c7df2d-74b7-41d3-95cd-7cda5f138ad2",
   "metadata": {},
   "outputs": [
    {
     "name": "stdout",
     "output_type": "stream",
     "text": [
      "image0\n",
      "<class 'torch.Tensor'>\n",
      "image1\n",
      "<class 'torch.Tensor'>\n",
      "T_0to1\n",
      "<class 'torch.Tensor'>\n",
      "abs_q_0\n",
      "<class 'torch.Tensor'>\n",
      "abs_c_0\n",
      "<class 'torch.Tensor'>\n",
      "abs_q_1\n",
      "<class 'torch.Tensor'>\n",
      "abs_c_1\n",
      "<class 'torch.Tensor'>\n",
      "K_color0\n",
      "<class 'torch.Tensor'>\n",
      "Kori_color0\n",
      "<class 'torch.Tensor'>\n",
      "K_color1\n",
      "<class 'torch.Tensor'>\n",
      "Kori_color1\n",
      "<class 'torch.Tensor'>\n",
      "dataset_name\n",
      "<class 'list'>\n",
      "scene_id\n",
      "<class 'list'>\n",
      "scene_root\n",
      "<class 'list'>\n",
      "pair_id\n",
      "<class 'torch.Tensor'>\n",
      "pair_names\n",
      "<class 'list'>\n",
      "kps0_shape\n",
      "<class 'list'>\n",
      "kps1_shape\n",
      "<class 'list'>\n",
      "depth0_map\n",
      "<class 'torch.Tensor'>\n",
      "depth1_map\n",
      "<class 'torch.Tensor'>\n",
      "down_factor\n",
      "<class 'int'>\n",
      "kps0\n",
      "<class 'torch.Tensor'>\n",
      "depth_kp0\n",
      "<class 'torch.Tensor'>\n",
      "scr0\n",
      "<class 'torch.Tensor'>\n",
      "kps1\n",
      "<class 'torch.Tensor'>\n",
      "depth_kp1\n",
      "<class 'torch.Tensor'>\n",
      "scr1\n",
      "<class 'torch.Tensor'>\n",
      "scores\n",
      "<class 'torch.Tensor'>\n",
      "dsc0\n",
      "<class 'torch.Tensor'>\n",
      "dsc1\n",
      "<class 'torch.Tensor'>\n",
      "kp_scores\n",
      "<class 'torch.Tensor'>\n",
      "final_scores\n",
      "<class 'torch.Tensor'>\n",
      "R\n",
      "<class 'torch.Tensor'>\n",
      "t\n",
      "<class 'torch.Tensor'>\n",
      "inliers\n",
      "<class 'torch.Tensor'>\n",
      "inliers_list\n",
      "<class 'list'>\n"
     ]
    }
   ],
   "source": [
    "for k, v in data.items():\n",
    "    print(k)\n",
    "    print(type(v))"
   ]
  },
  {
   "cell_type": "code",
   "execution_count": 31,
   "id": "88f04af3-2a8d-4851-bb7b-31dc18d597cd",
   "metadata": {},
   "outputs": [
    {
     "name": "stderr",
     "output_type": "stream",
     "text": [
      "  0%|▉                                                                                                                                                                                                                               | 2/463 [00:08<31:42,  4.13s/it]\n"
     ]
    },
    {
     "ename": "KeyboardInterrupt",
     "evalue": "",
     "output_type": "error",
     "traceback": [
      "\u001b[0;31m---------------------------------------------------------------------------\u001b[0m",
      "\u001b[0;31mKeyboardInterrupt\u001b[0m                         Traceback (most recent call last)",
      "Cell \u001b[0;32mIn[31], line 2\u001b[0m\n\u001b[1;32m      1\u001b[0m \u001b[38;5;66;03m# Get predictions from model and save in submission.zip\u001b[39;00m\n\u001b[0;32m----> 2\u001b[0m results_dict \u001b[38;5;241m=\u001b[39m \u001b[43mpredict\u001b[49m\u001b[43m(\u001b[49m\u001b[43mdataloader\u001b[49m\u001b[43m,\u001b[49m\u001b[43m \u001b[49m\u001b[43mmodel\u001b[49m\u001b[43m)\u001b[49m\n\u001b[1;32m      3\u001b[0m output_root\u001b[38;5;241m.\u001b[39mmkdir(parents\u001b[38;5;241m=\u001b[39m\u001b[38;5;28;01mTrue\u001b[39;00m, exist_ok\u001b[38;5;241m=\u001b[39m\u001b[38;5;28;01mTrue\u001b[39;00m)\n\u001b[1;32m      4\u001b[0m save_submission(results_dict, output_root \u001b[38;5;241m/\u001b[39m \u001b[38;5;124m'\u001b[39m\u001b[38;5;124msubmission.zip\u001b[39m\u001b[38;5;124m'\u001b[39m)\n",
      "File \u001b[0;32m~/Desktop/Projects/mapfree/lib/demo/utils.py:154\u001b[0m, in \u001b[0;36mpredict\u001b[0;34m(loader, model)\u001b[0m\n\u001b[1;32m    152\u001b[0m data \u001b[38;5;241m=\u001b[39m data_to_model_device(data, model)\n\u001b[1;32m    153\u001b[0m \u001b[38;5;28;01mwith\u001b[39;00m torch\u001b[38;5;241m.\u001b[39mno_grad():\n\u001b[0;32m--> 154\u001b[0m     R_batched, t_batched \u001b[38;5;241m=\u001b[39m \u001b[43mmodel\u001b[49m\u001b[43m(\u001b[49m\u001b[43mdata\u001b[49m\u001b[43m)\u001b[49m\n\u001b[1;32m    156\u001b[0m \u001b[38;5;28;01mfor\u001b[39;00m i_batch \u001b[38;5;129;01min\u001b[39;00m \u001b[38;5;28mrange\u001b[39m(\u001b[38;5;28mlen\u001b[39m(data[\u001b[38;5;124m'\u001b[39m\u001b[38;5;124mscene_id\u001b[39m\u001b[38;5;124m'\u001b[39m])):\n\u001b[1;32m    157\u001b[0m     R \u001b[38;5;241m=\u001b[39m R_batched[i_batch]\u001b[38;5;241m.\u001b[39munsqueeze(\u001b[38;5;241m0\u001b[39m)\u001b[38;5;241m.\u001b[39mdetach()\u001b[38;5;241m.\u001b[39mcpu()\u001b[38;5;241m.\u001b[39mnumpy()\n",
      "File \u001b[0;32m~/anaconda3/envs/mickey/lib/python3.8/site-packages/torch/nn/modules/module.py:1501\u001b[0m, in \u001b[0;36mModule._call_impl\u001b[0;34m(self, *args, **kwargs)\u001b[0m\n\u001b[1;32m   1496\u001b[0m \u001b[38;5;66;03m# If we don't have any hooks, we want to skip the rest of the logic in\u001b[39;00m\n\u001b[1;32m   1497\u001b[0m \u001b[38;5;66;03m# this function, and just call forward.\u001b[39;00m\n\u001b[1;32m   1498\u001b[0m \u001b[38;5;28;01mif\u001b[39;00m \u001b[38;5;129;01mnot\u001b[39;00m (\u001b[38;5;28mself\u001b[39m\u001b[38;5;241m.\u001b[39m_backward_hooks \u001b[38;5;129;01mor\u001b[39;00m \u001b[38;5;28mself\u001b[39m\u001b[38;5;241m.\u001b[39m_backward_pre_hooks \u001b[38;5;129;01mor\u001b[39;00m \u001b[38;5;28mself\u001b[39m\u001b[38;5;241m.\u001b[39m_forward_hooks \u001b[38;5;129;01mor\u001b[39;00m \u001b[38;5;28mself\u001b[39m\u001b[38;5;241m.\u001b[39m_forward_pre_hooks\n\u001b[1;32m   1499\u001b[0m         \u001b[38;5;129;01mor\u001b[39;00m _global_backward_pre_hooks \u001b[38;5;129;01mor\u001b[39;00m _global_backward_hooks\n\u001b[1;32m   1500\u001b[0m         \u001b[38;5;129;01mor\u001b[39;00m _global_forward_hooks \u001b[38;5;129;01mor\u001b[39;00m _global_forward_pre_hooks):\n\u001b[0;32m-> 1501\u001b[0m     \u001b[38;5;28;01mreturn\u001b[39;00m \u001b[43mforward_call\u001b[49m\u001b[43m(\u001b[49m\u001b[38;5;241;43m*\u001b[39;49m\u001b[43margs\u001b[49m\u001b[43m,\u001b[49m\u001b[43m \u001b[49m\u001b[38;5;241;43m*\u001b[39;49m\u001b[38;5;241;43m*\u001b[39;49m\u001b[43mkwargs\u001b[49m\u001b[43m)\u001b[49m\n\u001b[1;32m   1502\u001b[0m \u001b[38;5;66;03m# Do not call functions when jit is used\u001b[39;00m\n\u001b[1;32m   1503\u001b[0m full_backward_hooks, non_full_backward_hooks \u001b[38;5;241m=\u001b[39m [], []\n",
      "File \u001b[0;32m~/Desktop/Projects/mapfree/lib/models/MicKey/compute_pose.py:22\u001b[0m, in \u001b[0;36mMickeyRelativePose.forward\u001b[0;34m(self, data)\u001b[0m\n\u001b[1;32m     20\u001b[0m \u001b[38;5;28;01mdef\u001b[39;00m \u001b[38;5;21mforward\u001b[39m(\u001b[38;5;28mself\u001b[39m, data):\n\u001b[0;32m---> 22\u001b[0m     \u001b[38;5;28;43mself\u001b[39;49m\u001b[38;5;241;43m.\u001b[39;49m\u001b[43mcompute_matches\u001b[49m\u001b[43m(\u001b[49m\u001b[43mdata\u001b[49m\u001b[43m)\u001b[49m\n\u001b[1;32m     23\u001b[0m     data[\u001b[38;5;124m'\u001b[39m\u001b[38;5;124mfinal_scores\u001b[39m\u001b[38;5;124m'\u001b[39m] \u001b[38;5;241m=\u001b[39m data[\u001b[38;5;124m'\u001b[39m\u001b[38;5;124mscores\u001b[39m\u001b[38;5;124m'\u001b[39m] \u001b[38;5;241m*\u001b[39m data[\u001b[38;5;124m'\u001b[39m\u001b[38;5;124mkp_scores\u001b[39m\u001b[38;5;124m'\u001b[39m]\n\u001b[1;32m     25\u001b[0m     R, t, inliers, inliers_list \u001b[38;5;241m=\u001b[39m \u001b[38;5;28mself\u001b[39m\u001b[38;5;241m.\u001b[39me2e_Procrustes\u001b[38;5;241m.\u001b[39mestimate_pose(data, return_inliers\u001b[38;5;241m=\u001b[39m\u001b[38;5;28;01mTrue\u001b[39;00m)\n",
      "File \u001b[0;32m~/anaconda3/envs/mickey/lib/python3.8/site-packages/torch/nn/modules/module.py:1501\u001b[0m, in \u001b[0;36mModule._call_impl\u001b[0;34m(self, *args, **kwargs)\u001b[0m\n\u001b[1;32m   1496\u001b[0m \u001b[38;5;66;03m# If we don't have any hooks, we want to skip the rest of the logic in\u001b[39;00m\n\u001b[1;32m   1497\u001b[0m \u001b[38;5;66;03m# this function, and just call forward.\u001b[39;00m\n\u001b[1;32m   1498\u001b[0m \u001b[38;5;28;01mif\u001b[39;00m \u001b[38;5;129;01mnot\u001b[39;00m (\u001b[38;5;28mself\u001b[39m\u001b[38;5;241m.\u001b[39m_backward_hooks \u001b[38;5;129;01mor\u001b[39;00m \u001b[38;5;28mself\u001b[39m\u001b[38;5;241m.\u001b[39m_backward_pre_hooks \u001b[38;5;129;01mor\u001b[39;00m \u001b[38;5;28mself\u001b[39m\u001b[38;5;241m.\u001b[39m_forward_hooks \u001b[38;5;129;01mor\u001b[39;00m \u001b[38;5;28mself\u001b[39m\u001b[38;5;241m.\u001b[39m_forward_pre_hooks\n\u001b[1;32m   1499\u001b[0m         \u001b[38;5;129;01mor\u001b[39;00m _global_backward_pre_hooks \u001b[38;5;129;01mor\u001b[39;00m _global_backward_hooks\n\u001b[1;32m   1500\u001b[0m         \u001b[38;5;129;01mor\u001b[39;00m _global_forward_hooks \u001b[38;5;129;01mor\u001b[39;00m _global_forward_pre_hooks):\n\u001b[0;32m-> 1501\u001b[0m     \u001b[38;5;28;01mreturn\u001b[39;00m \u001b[43mforward_call\u001b[49m\u001b[43m(\u001b[49m\u001b[38;5;241;43m*\u001b[39;49m\u001b[43margs\u001b[49m\u001b[43m,\u001b[49m\u001b[43m \u001b[49m\u001b[38;5;241;43m*\u001b[39;49m\u001b[38;5;241;43m*\u001b[39;49m\u001b[43mkwargs\u001b[49m\u001b[43m)\u001b[49m\n\u001b[1;32m   1502\u001b[0m \u001b[38;5;66;03m# Do not call functions when jit is used\u001b[39;00m\n\u001b[1;32m   1503\u001b[0m full_backward_hooks, non_full_backward_hooks \u001b[38;5;241m=\u001b[39m [], []\n",
      "File \u001b[0;32m~/Desktop/Projects/mapfree/lib/models/MicKey/modules/compute_correspondences.py:62\u001b[0m, in \u001b[0;36mComputeCorrespondences.forward\u001b[0;34m(self, data)\u001b[0m\n\u001b[1;32m     59\u001b[0m kps0, depth0, scr0, dsc0 \u001b[38;5;241m=\u001b[39m \u001b[38;5;28mself\u001b[39m\u001b[38;5;241m.\u001b[39mextractor(im0)\n\u001b[1;32m     60\u001b[0m kps1, depth1, scr1, dsc1 \u001b[38;5;241m=\u001b[39m \u001b[38;5;28mself\u001b[39m\u001b[38;5;241m.\u001b[39mextractor(im1)\n\u001b[0;32m---> 62\u001b[0m kps0 \u001b[38;5;241m=\u001b[39m \u001b[38;5;28;43mself\u001b[39;49m\u001b[38;5;241;43m.\u001b[39;49m\u001b[43mget_abs_kpts_coordinates\u001b[49m\u001b[43m(\u001b[49m\u001b[43mkps0\u001b[49m\u001b[43m)\u001b[49m\n\u001b[1;32m     63\u001b[0m kps1 \u001b[38;5;241m=\u001b[39m \u001b[38;5;28mself\u001b[39m\u001b[38;5;241m.\u001b[39mget_abs_kpts_coordinates(kps1)\n\u001b[1;32m     65\u001b[0m \u001b[38;5;66;03m# Log shape for logging purposes\u001b[39;00m\n",
      "File \u001b[0;32m~/Desktop/Projects/mapfree/lib/models/MicKey/modules/compute_correspondences.py:25\u001b[0m, in \u001b[0;36mComputeCorrespondences.get_abs_kpts_coordinates\u001b[0;34m(self, kpts)\u001b[0m\n\u001b[1;32m     22\u001b[0m B, C, H, W \u001b[38;5;241m=\u001b[39m kpts\u001b[38;5;241m.\u001b[39mshape\n\u001b[1;32m     24\u001b[0m \u001b[38;5;66;03m# Compute offset for every kp grid\u001b[39;00m\n\u001b[0;32m---> 25\u001b[0m x_abs_pos \u001b[38;5;241m=\u001b[39m \u001b[43mtorch\u001b[49m\u001b[38;5;241;43m.\u001b[39;49m\u001b[43marange\u001b[49m\u001b[43m(\u001b[49m\u001b[43mW\u001b[49m\u001b[43m)\u001b[49m\u001b[38;5;241;43m.\u001b[39;49m\u001b[43mview\u001b[49m\u001b[43m(\u001b[49m\u001b[38;5;241;43m1\u001b[39;49m\u001b[43m,\u001b[49m\u001b[43m \u001b[49m\u001b[38;5;241;43m1\u001b[39;49m\u001b[43m,\u001b[49m\u001b[43m \u001b[49m\u001b[43mW\u001b[49m\u001b[43m)\u001b[49m\u001b[38;5;241;43m.\u001b[39;49m\u001b[43mtile\u001b[49m\u001b[43m(\u001b[49m\u001b[43m[\u001b[49m\u001b[43mB\u001b[49m\u001b[43m,\u001b[49m\u001b[43m \u001b[49m\u001b[43mH\u001b[49m\u001b[43m,\u001b[49m\u001b[43m \u001b[49m\u001b[38;5;241;43m1\u001b[39;49m\u001b[43m]\u001b[49m\u001b[43m)\u001b[49m\u001b[38;5;241;43m.\u001b[39;49m\u001b[43mto\u001b[49m\u001b[43m(\u001b[49m\u001b[43mkpts\u001b[49m\u001b[38;5;241;43m.\u001b[39;49m\u001b[43mdevice\u001b[49m\u001b[43m)\u001b[49m\n\u001b[1;32m     26\u001b[0m y_abs_pos \u001b[38;5;241m=\u001b[39m torch\u001b[38;5;241m.\u001b[39marange(H)\u001b[38;5;241m.\u001b[39mview(\u001b[38;5;241m1\u001b[39m, H, \u001b[38;5;241m1\u001b[39m)\u001b[38;5;241m.\u001b[39mtile([B, \u001b[38;5;241m1\u001b[39m, W])\u001b[38;5;241m.\u001b[39mto(kpts\u001b[38;5;241m.\u001b[39mdevice)\n\u001b[1;32m     27\u001b[0m abs_pos \u001b[38;5;241m=\u001b[39m torch\u001b[38;5;241m.\u001b[39mconcat([x_abs_pos\u001b[38;5;241m.\u001b[39munsqueeze(\u001b[38;5;241m1\u001b[39m), y_abs_pos\u001b[38;5;241m.\u001b[39munsqueeze(\u001b[38;5;241m1\u001b[39m)], dim\u001b[38;5;241m=\u001b[39m\u001b[38;5;241m1\u001b[39m)\n",
      "\u001b[0;31mKeyboardInterrupt\u001b[0m: "
     ]
    }
   ],
   "source": [
    "# Get predictions from model and save in submission.zip\n",
    "results_dict = predict(dataloader, model)\n",
    "output_root.mkdir(parents=True, exist_ok=True)\n",
    "save_submission(results_dict, output_root / 'submission.zip')"
   ]
  },
  {
   "cell_type": "markdown",
   "id": "c8caae5b-8fe1-4c98-aa29-acac8506e96c",
   "metadata": {},
   "source": [
    "Now calculate metrics from results. Just grab information from submission.zip"
   ]
  },
  {
   "cell_type": "code",
   "execution_count": null,
   "id": "ea357cdf-7221-47e5-902d-0ce48f1e03b2",
   "metadata": {},
   "outputs": [
    {
     "name": "stdout",
     "output_type": "stream",
     "text": [
      "number of scenes: 65\n",
      "scene path: ../data/val/s00500\n",
      "compare: 116 116\n",
      "shape of img_pts: (200, 7)\n",
      "saving figure ../data/val/s00500/figs/frame_00000.jpg\n",
      "shape of img_pts: (172, 7)\n",
      "saving figure ../data/val/s00500/figs/frame_00005.jpg\n",
      "shape of img_pts: (154, 7)\n",
      "saving figure ../data/val/s00500/figs/frame_00010.jpg\n",
      "shape of img_pts: (234, 7)\n",
      "saving figure ../data/val/s00500/figs/frame_00015.jpg\n",
      "shape of img_pts: (206, 7)\n",
      "saving figure ../data/val/s00500/figs/frame_00020.jpg\n",
      "shape of img_pts: (237, 7)\n",
      "saving figure ../data/val/s00500/figs/frame_00025.jpg\n",
      "shape of img_pts: (220, 7)\n",
      "saving figure ../data/val/s00500/figs/frame_00030.jpg\n",
      "shape of img_pts: (160, 7)\n",
      "saving figure ../data/val/s00500/figs/frame_00035.jpg\n",
      "shape of img_pts: (139, 7)\n",
      "saving figure ../data/val/s00500/figs/frame_00040.jpg\n",
      "shape of img_pts: (195, 7)\n",
      "saving figure ../data/val/s00500/figs/frame_00045.jpg\n",
      "shape of img_pts: (270, 7)\n",
      "saving figure ../data/val/s00500/figs/frame_00050.jpg\n",
      "shape of img_pts: (201, 7)\n",
      "saving figure ../data/val/s00500/figs/frame_00055.jpg\n",
      "shape of img_pts: (343, 7)\n",
      "saving figure ../data/val/s00500/figs/frame_00060.jpg\n",
      "shape of img_pts: (256, 7)\n",
      "saving figure ../data/val/s00500/figs/frame_00065.jpg\n",
      "shape of img_pts: (416, 7)\n",
      "saving figure ../data/val/s00500/figs/frame_00070.jpg\n",
      "shape of img_pts: (436, 7)\n",
      "saving figure ../data/val/s00500/figs/frame_00075.jpg\n",
      "shape of img_pts: (379, 7)\n",
      "saving figure ../data/val/s00500/figs/frame_00080.jpg\n",
      "shape of img_pts: (438, 7)\n",
      "saving figure ../data/val/s00500/figs/frame_00085.jpg\n",
      "shape of img_pts: (446, 7)\n",
      "saving figure ../data/val/s00500/figs/frame_00090.jpg\n",
      "shape of img_pts: (542, 7)\n",
      "saving figure ../data/val/s00500/figs/frame_00095.jpg\n",
      "shape of img_pts: (583, 7)\n",
      "saving figure ../data/val/s00500/figs/frame_00100.jpg\n",
      "shape of img_pts: (665, 7)\n",
      "saving figure ../data/val/s00500/figs/frame_00105.jpg\n",
      "shape of img_pts: (691, 7)\n"
     ]
    }
   ],
   "source": [
    "def plot_images_correspondences(axis, x, y, color, img, title):\n",
    "    axis.imshow(mpimg.imread(img))\n",
    "    axis.scatter(x, y, color=color, s=1)\n",
    "    axis.set_title(title)\n",
    "\n",
    "def populate_results_with_imgs(results_with_imgs, query_img_path, metrics):\n",
    "    for k in metrics:\n",
    "        results_with_imgs[k].append((str(query_img_path), metrics[k]))\n",
    "        \n",
    "\n",
    "dataset_path = Path(\"..\", \"data/\") / dataset_split\n",
    "scenes = tuple(f.name for f in dataset_path.iterdir() if f.is_dir())\n",
    "submission_zip = ZipFile(output_root / 'submission.zip', 'r')\n",
    "all_results = dict()\n",
    "all_failures = 0\n",
    "results_with_imgs = defaultdict(list)\n",
    "print(f'number of scenes: {len(scenes)}')\n",
    "num_correspondences = 0\n",
    "for scene in scenes:\n",
    "    scene_path = dataset_path / scene\n",
    "    print(f'scene path: {scene_path}')\n",
    "    # load both images as well as the correspondences file for both images\n",
    "    # plot both images and draw the correspondences\n",
    "    # save plot in the same place\n",
    "    # have a dictionary containing ordered lists based on the error\n",
    "    \n",
    "    \n",
    "    metrics, failures = compute_scene_metrics(\n",
    "        dataset_path, submission_zip, scene)\n",
    "    # all_results[scene] = metrics\n",
    "    # all_failures += failures\n",
    "    \n",
    "    ref_img_path = scene_path / 'seq0' / 'frame_00000.jpg'\n",
    "    query_imgs_path = scene_path / 'seq1'\n",
    "    num_imgs = len(os.listdir(query_imgs_path)) // 5 # in validation they take every 5th frame\n",
    "\n",
    "    print(f'compare: {num_imgs} {len(metrics[\"trans_err\"])}')\n",
    "    \n",
    "    # assert num_imgs == len(metrics['trans_err'])\n",
    "    i = 0\n",
    "    while i < len(metrics[\"trans_err\"]):\n",
    "        j = i\n",
    "        while j < len(metrics[\"trans_err\"]):\n",
    "            query_img_fname = f'frame_{str(j).zfill(5)}.jpg'\n",
    "            query_img_path = query_imgs_path / query_img_fname\n",
    "            corr_path = os.path.splitext(query_img_path)[0] + '.txt'\n",
    "            corr_path = corr_path.replace(os.sep + \"seq1\" + os.sep, os.sep + \"corr\" + os.sep)\n",
    "            if os.path.exists(corr_path):\n",
    "                break\n",
    "            j += 1\n",
    "\n",
    "        i = j\n",
    "        if i >= len(metrics[\"trans_err\"]):\n",
    "            break\n",
    "        populate_results_with_imgs(results_with_imgs, query_img_path, {k : metrics[k][i] for k in metrics})\n",
    "        fig_path = corr_path.replace(os.sep + \"corr\" + os.sep, os.sep + \"figs\" + os.sep)\n",
    "        fig_path = os.path.splitext(fig_path)[0] + \".jpg\"\n",
    "        \n",
    "        img_pts = np.loadtxt(corr_path)\n",
    "        num_correspondences += img_pts.shape[0]\n",
    "        print(f'shape of img_pts: {img_pts.shape}')\n",
    "        \n",
    "        fig, axes = plt.subplots(1, 2, figsize=(20, 10))\n",
    "        plot_images_correspondences(axes[0], img_pts[:, 0], img_pts[:, 1], \"red\", str(ref_img_path), \"Reference Image\")\n",
    "        plot_images_correspondences(axes[1], img_pts[:, 2], img_pts[:, 3], \"blue\", str(query_img_path), \"Query Image\")\n",
    "        for n in range(img_pts.shape[0]):\n",
    "            if i % 10 == 0:\n",
    "                con = matplotlib.patches.ConnectionPatch(xyA=img_pts[n, :2], xyB=img_pts[n, 2:4], coordsA=\"data\", coordsB=\"data\",\n",
    "                                          axesA=axes[0], axesB=axes[1], color=\"green\")\n",
    "                axes[1].add_artist(con)\n",
    "        img_pts = None\n",
    "        \n",
    "        if not os.path.exists(os.path.split(fig_path)[0]):\n",
    "            os.mkdir(os.path.split(fig_path)[0])\n",
    "        print(f'saving figure {fig_path}')\n",
    "        out = fig.savefig(fig_path)\n",
    "        plt.close(out)\n",
    "        del img_pts, fig, axes, out\n",
    "        i += 1\n",
    "        \n",
    "        \n",
    "        \n",
    "    "
   ]
  },
  {
   "cell_type": "code",
   "execution_count": 4,
   "id": "c89cad48-89c3-4cb3-9f91-46e767fc07a5",
   "metadata": {},
   "outputs": [
    {
     "name": "stdout",
     "output_type": "stream",
     "text": [
      "621835\n"
     ]
    }
   ],
   "source": [
    "print(num_correspondences)"
   ]
  },
  {
   "cell_type": "code",
   "execution_count": 4,
   "id": "c8955e1e-a2d9-40a6-8dcc-19f1cced44e5",
   "metadata": {},
   "outputs": [],
   "source": [
    "with open(\"results.json\", \"w\") as outfile: \n",
    "    json.dump(results_with_imgs, outfile)"
   ]
  },
  {
   "cell_type": "code",
   "execution_count": 17,
   "id": "65ad9b91-8147-4eb1-85ba-fe90a163fa12",
   "metadata": {},
   "outputs": [],
   "source": [
    "median_metrics = defaultdict(list)\n",
    "all_metrics = defaultdict(list)\n",
    "for scene_results in all_results.values():\n",
    "    for metric, values in scene_results.items():\n",
    "        median_metrics[metric].append(np.median(values))\n",
    "        all_metrics[metric].extend(values)\n",
    "all_metrics = {k: np.array(v) for k, v in all_metrics.items()}"
   ]
  },
  {
   "cell_type": "code",
   "execution_count": 40,
   "id": "348c386f-88ef-42b5-a5b2-ea216e4e4706",
   "metadata": {},
   "outputs": [
    {
     "data": {
      "text/plain": [
       "1.9072412347977894"
      ]
     },
     "execution_count": 40,
     "metadata": {},
     "output_type": "execute_result"
    }
   ],
   "source": [
    "np.average(median_metrics['trans_err'])"
   ]
  },
  {
   "cell_type": "code",
   "execution_count": 33,
   "id": "cb14c6c7-c26e-4adf-ab13-e2a9f37cfee3",
   "metadata": {
    "scrolled": true
   },
   "outputs": [
    {
     "data": {
      "image/png": "[encoded data removed]",
      "text/plain": [
       "<Figure size 1000x800 with 4 Axes>"
      ]
     },
     "metadata": {},
     "output_type": "display_data"
    }
   ],
   "source": [
    "trans_err = all_metrics['trans_err']\n",
    "rot_err = all_metrics['rot_err']\n",
    "reproj_err = all_metrics['reproj_err']\n",
    "conf = all_metrics['confidence']\n",
    "fig, axs = plt.subplots(2, 2, figsize=(10, 8))\n",
    "axs[0, 0].hist(trans_err, bins=30, alpha=0.7, color='blue')\n",
    "axs[0, 0].set_title('Translation Error')\n",
    "\n",
    "axs[0, 1].hist(rot_err, bins=30, alpha=0.7, color='green')\n",
    "axs[0, 1].set_title('Rotation Error')\n",
    "\n",
    "axs[1, 0].hist(reproj_err, bins=30, alpha=0.7, color='red')\n",
    "axs[1, 0].set_title('Reprojection Error')\n",
    "\n",
    "axs[1, 1].hist(conf, bins=30, alpha=0.7, color='purple')\n",
    "axs[1, 1].set_title('Confidence')\n",
    "\n",
    "plt.tight_layout()\n",
    "plt.show()"
   ]
  },
  {
   "cell_type": "code",
   "execution_count": 6,
   "id": "dccad18a-faa9-4ffb-8b5a-9be8668ec24e",
   "metadata": {},
   "outputs": [],
   "source": [
    "with open(\"results.json\", \"r\") as f:\n",
    "    data = json.load(f)"
   ]
  },
  {
   "cell_type": "code",
   "execution_count": 24,
   "id": "207218c0-019e-40c9-b5e6-3650d1b6bcbe",
   "metadata": {},
   "outputs": [
    {
     "data": {
      "text/plain": [
       "[['../data/val/s00523/seq1/frame_00040.jpg', 0.016985589500003843],\n",
       " ['../data/val/s00506/seq1/frame_00005.jpg', 0.035296205563300286],\n",
       " ['../data/val/s00478/seq1/frame_00095.jpg', 0.0369399291071285],\n",
       " ['../data/val/s00483/seq1/frame_00080.jpg', 0.037985454964916905],\n",
       " ['../data/val/s00475/seq1/frame_00085.jpg', 0.04544064999988911],\n",
       " ['../data/val/s00475/seq1/frame_00095.jpg', 0.045808025797652745],\n",
       " ['../data/val/s00523/seq1/frame_00060.jpg', 0.04848322364962348],\n",
       " ['../data/val/s00475/seq1/frame_00090.jpg', 0.05127424325727206],\n",
       " ['../data/val/s00486/seq1/frame_00090.jpg', 0.05136244981221082],\n",
       " ['../data/val/s00523/seq1/frame_00055.jpg', 0.0518103544813915]]"
      ]
     },
     "execution_count": 24,
     "metadata": {},
     "output_type": "execute_result"
    }
   ],
   "source": [
    "best_trans_err = sorted(data['trans_err'], key=lambda x: x[1])\n",
    "best_trans_err[:10]"
   ]
  },
  {
   "cell_type": "code",
   "execution_count": 23,
   "id": "b6fe739e-6684-4134-8ba2-e5c444325b20",
   "metadata": {},
   "outputs": [
    {
     "data": {
      "text/plain": [
       "[['../data/val/s00461/seq1/frame_00100.jpg', 11.117327362153574],\n",
       " ['../data/val/s00461/seq1/frame_00105.jpg', 11.236044460082935],\n",
       " ['../data/val/s00461/seq1/frame_00110.jpg', 11.384439451224472],\n",
       " ['../data/val/s00520/seq1/frame_00005.jpg', 11.478693357620353],\n",
       " ['../data/val/s00523/seq1/frame_00000.jpg', 12.518416064212312],\n",
       " ['../data/val/s00509/seq1/frame_00000.jpg', 12.862570863337625],\n",
       " ['../data/val/s00509/seq1/frame_00005.jpg', 12.906464126105117],\n",
       " ['../data/val/s00480/seq1/frame_00000.jpg', 12.950781810675808],\n",
       " ['../data/val/s00507/seq1/frame_00000.jpg', 14.313291239293541],\n",
       " ['../data/val/s00481/seq1/frame_00005.jpg', 14.480995132703855]]"
      ]
     },
     "execution_count": 23,
     "metadata": {},
     "output_type": "execute_result"
    }
   ],
   "source": [
    "best_trans_err[-10:]"
   ]
  },
  {
   "cell_type": "code",
   "execution_count": 18,
   "id": "50361f46-3b7b-4469-836a-8877f904d99c",
   "metadata": {},
   "outputs": [
    {
     "data": {
      "text/plain": [
       "[['../data/val/s00498/seq1/frame_00010.jpg', 0.4645634681346907],\n",
       " ['../data/val/s00483/seq1/frame_00070.jpg', 0.5456485365658197],\n",
       " ['../data/val/s00475/seq1/frame_00085.jpg', 0.6070810670580539],\n",
       " ['../data/val/s00483/seq1/frame_00080.jpg', 0.6242962669805067],\n",
       " ['../data/val/s00498/seq1/frame_00005.jpg', 0.6784917139360027],\n",
       " ['../data/val/s00507/seq1/frame_00115.jpg', 0.7092524296283645],\n",
       " ['../data/val/s00488/seq1/frame_00090.jpg', 0.9758054062320585],\n",
       " ['../data/val/s00507/seq1/frame_00035.jpg', 0.9936713284244825],\n",
       " ['../data/val/s00511/seq1/frame_00025.jpg', 1.0353922374144984],\n",
       " ['../data/val/s00523/seq1/frame_00050.jpg', 1.1061123606649141]]"
      ]
     },
     "execution_count": 18,
     "metadata": {},
     "output_type": "execute_result"
    }
   ],
   "source": [
    "best_rot_err = sorted(data['rot_err'], key=lambda x: x[1])\n",
    "best_rot_err[:10]"
   ]
  },
  {
   "cell_type": "code",
   "execution_count": 25,
   "id": "0c15bb6f-286d-4f25-bead-15477d09fecb",
   "metadata": {},
   "outputs": [
    {
     "data": {
      "text/plain": [
       "[['../data/val/s00497/seq1/frame_00095.jpg', 179.5665963663017],\n",
       " ['../data/val/s00465/seq1/frame_00100.jpg', 179.63264387800754],\n",
       " ['../data/val/s00465/seq1/frame_00090.jpg', 179.71009104548642],\n",
       " ['../data/val/s00476/seq1/frame_00095.jpg', 179.7264137597988],\n",
       " ['../data/val/s00505/seq1/frame_00115.jpg', 179.75540647764922],\n",
       " ['../data/val/s00497/seq1/frame_00105.jpg', 179.77288880007526],\n",
       " ['../data/val/s00497/seq1/frame_00080.jpg', 179.78881221711208],\n",
       " ['../data/val/s00497/seq1/frame_00075.jpg', 179.81600195592623],\n",
       " ['../data/val/s00497/seq1/frame_00090.jpg', 179.95355085709716],\n",
       " ['../data/val/s00505/seq1/frame_00110.jpg', 179.9980007537809]]"
      ]
     },
     "execution_count": 25,
     "metadata": {},
     "output_type": "execute_result"
    }
   ],
   "source": [
    "best_rot_err[-10:]"
   ]
  },
  {
   "cell_type": "code",
   "execution_count": 27,
   "id": "77d8a1e0-1181-44eb-a1e6-495bb1e2118d",
   "metadata": {},
   "outputs": [
    {
     "data": {
      "text/plain": [
       "[['../data/val/s00483/seq1/frame_00080.jpg', 2.1492382985425427],\n",
       " ['../data/val/s00487/seq1/frame_00040.jpg', 3.8889567255078625],\n",
       " ['../data/val/s00508/seq1/frame_00040.jpg', 3.9013852926093744],\n",
       " ['../data/val/s00488/seq1/frame_00115.jpg', 4.2621653368508685],\n",
       " ['../data/val/s00498/seq1/frame_00010.jpg', 4.621111494988905],\n",
       " ['../data/val/s00483/seq1/frame_00060.jpg', 5.008454852482108],\n",
       " ['../data/val/s00475/seq1/frame_00095.jpg', 5.01164028072074],\n",
       " ['../data/val/s00508/seq1/frame_00110.jpg', 5.075277406335636],\n",
       " ['../data/val/s00475/seq1/frame_00085.jpg', 5.316845061883135],\n",
       " ['../data/val/s00475/seq1/frame_00100.jpg', 5.8837517011916045]]"
      ]
     },
     "execution_count": 27,
     "metadata": {},
     "output_type": "execute_result"
    }
   ],
   "source": [
    "best_reproj_err = sorted(data['reproj_err'], key=lambda x: x[1])\n",
    "best_reproj_err[:10]"
   ]
  },
  {
   "cell_type": "code",
   "execution_count": 28,
   "id": "4cbc5d2d-c7d0-431e-a6aa-ede4251f7fe4",
   "metadata": {},
   "outputs": [
    {
     "data": {
      "text/plain": [
       "[['../data/val/s00519/seq1/frame_00030.jpg', 493.2534173370159],\n",
       " ['../data/val/s00512/seq1/frame_00075.jpg', 494.71676362950365],\n",
       " ['../data/val/s00512/seq1/frame_00080.jpg', 500.20037210235796],\n",
       " ['../data/val/s00460/seq1/frame_00090.jpg', 501.11626963892746],\n",
       " ['../data/val/s00512/seq1/frame_00070.jpg', 503.22991066263194],\n",
       " ['../data/val/s00499/seq1/frame_00015.jpg', 506.2337707452678],\n",
       " ['../data/val/s00479/seq1/frame_00060.jpg', 506.3767193172238],\n",
       " ['../data/val/s00512/seq1/frame_00060.jpg', 506.902928563284],\n",
       " ['../data/val/s00512/seq1/frame_00065.jpg', 514.5497261395251],\n",
       " ['../data/val/s00499/seq1/frame_00115.jpg', 532.6806918045132]]"
      ]
     },
     "execution_count": 28,
     "metadata": {},
     "output_type": "execute_result"
    }
   ],
   "source": [
    "best_reproj_err[-10:]"
   ]
  },
  {
   "cell_type": "code",
   "execution_count": 31,
   "id": "78711780-1aed-4136-932b-9ef7e29dfa78",
   "metadata": {},
   "outputs": [
    {
     "data": {
      "text/plain": [
       "[['../data/val/s00461/seq1/frame_00050.jpg', 113.91442808925166],\n",
       " ['../data/val/s00468/seq1/frame_00030.jpg', 114.11965331257845],\n",
       " ['../data/val/s00518/seq1/frame_00100.jpg', 114.39823639291959],\n",
       " ['../data/val/s00461/seq1/frame_00045.jpg', 114.513836270068],\n",
       " ['../data/val/s00503/seq1/frame_00105.jpg', 114.82297268174074],\n",
       " ['../data/val/s00510/seq1/frame_00000.jpg', 115.46662091811558],\n",
       " ['../data/val/s00473/seq1/frame_00000.jpg', 115.7034267503599],\n",
       " ['../data/val/s00496/seq1/frame_00100.jpg', 116.99497502689478],\n",
       " ['../data/val/s00507/seq1/frame_00040.jpg', 117.10356913032908],\n",
       " ['../data/val/s00517/seq1/frame_00015.jpg', 117.26341832793823]]"
      ]
     },
     "execution_count": 31,
     "metadata": {},
     "output_type": "execute_result"
    }
   ],
   "source": [
    "best_reproj_err[len(best_reproj_err) // 2: len(best_reproj_err) // 2 + 10]"
   ]
  },
  {
   "cell_type": "code",
   "execution_count": 21,
   "id": "b3c75bf3-f785-4358-b507-98c5a8595ea3",
   "metadata": {},
   "outputs": [
    {
     "data": {
      "text/plain": [
       "[['../data/val/s00469/seq1/frame_00010.jpg', 1571.73486328125],\n",
       " ['../data/val/s00469/seq1/frame_00005.jpg', 1545.1922607421875],\n",
       " ['../data/val/s00469/seq1/frame_00000.jpg', 1499.48388671875],\n",
       " ['../data/val/s00469/seq1/frame_00110.jpg', 1477.560546875],\n",
       " ['../data/val/s00487/seq1/frame_00110.jpg', 1400.8818359375],\n",
       " ['../data/val/s00469/seq1/frame_00105.jpg', 1395.830078125],\n",
       " ['../data/val/s00523/seq1/frame_00055.jpg', 1378.4317626953125],\n",
       " ['../data/val/s00469/seq1/frame_00015.jpg', 1374.04296875],\n",
       " ['../data/val/s00469/seq1/frame_00100.jpg', 1353.617431640625],\n",
       " ['../data/val/s00469/seq1/frame_00085.jpg', 1342.364990234375]]"
      ]
     },
     "execution_count": 21,
     "metadata": {},
     "output_type": "execute_result"
    }
   ],
   "source": [
    "best_conf = sorted(data['confidence'], key=lambda x: x[1], reverse=True)\n",
    "best_conf[:10]"
   ]
  }
 ],
 "metadata": {
  "kernelspec": {
   "display_name": "Python 3 (ipykernel)",
   "language": "python",
   "name": "python3"
  },
  "language_info": {
   "codemirror_mode": {
    "name": "ipython",
    "version": 3
   },
   "file_extension": ".py",
   "mimetype": "text/x-python",
   "name": "python",
   "nbconvert_exporter": "python",
   "pygments_lexer": "ipython3",
   "version": "3.8.17"
  }
 },
 "nbformat": 4,
 "nbformat_minor": 5
}
