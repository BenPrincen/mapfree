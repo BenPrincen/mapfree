{
 "cells": [
  {
   "cell_type": "code",
   "execution_count": null,
   "id": "12865ffd",
   "metadata": {},
   "outputs": [],
   "source": [
    "import os\n",
    "import sys\n",
    "\n",
    "sys.path.append(\"..\")\n",
    "\n",
    "from lib.eval.silk_runner import SilkRunner\n",
    "from lib.eval.eval import Eval\n",
    "from lib.dataset.mapfree import MapFreeDataset\n",
    "from yacs.config import CfgNode as CN\n",
    "from torch.utils.data import DataLoader "
   ]
  },
  {
   "cell_type": "code",
   "execution_count": null,
   "id": "e9792d84",
   "metadata": {},
   "outputs": [],
   "source": [
    "def init_config(dataset_config: str) -> CN:\n",
    "    node = CN()\n",
    "    node.set_new_allowed(True)\n",
    "    node.merge_from_file(dataset_config)\n",
    "    node.DEBUG = False\n",
    "\n",
    "    # explicitely setting to None because if loading from yaml it's a string\n",
    "    node.DATASET.SCENES = None\n",
    "    node.DATASET.AUGMENTATION_TYPE = None\n",
    "    return node"
   ]
  },
  {
   "cell_type": "code",
   "execution_count": null,
   "id": "eec52212",
   "metadata": {},
   "outputs": [],
   "source": [
    "silk_config = \"../config/silk/silk_config.yaml\"\n",
    "checkpoint = \"../../silk/assets/models/silk/coco-rgb-aug.ckpt\"\n",
    "data_dir = \"../data\"\n",
    "dataset_config = \"../config/datasets/mapfree.yaml\"\n",
    "dataset_split = \"val\"\n",
    "\n",
    "paths = [silk_config, checkpoint, data_dir, dataset_config]\n",
    "exists = [os.path.exists(p) for p in paths]\n",
    "if sum(exists) == len(paths):\n",
    "    print(\"All paths exist :)\")"
   ]
  },
  {
   "cell_type": "code",
   "execution_count": null,
   "id": "6029c3da",
   "metadata": {},
   "outputs": [],
   "source": [
    "mapfree_config = init_config(dataset_config)\n",
    "mapfree_config.DATASET.DATA_ROOT = \"../\" + mapfree_config.DATASET.DATA_ROOT\n",
    "mapfree_config.DATASET.DEPTH_ROOT = \"../../mickey_depths\"\n",
    "dataset = MapFreeDataset(mapfree_config, dataset_split)\n",
    "loader = DataLoader(dataset, batch_size=4)"
   ]
  },
  {
   "cell_type": "code",
   "execution_count": null,
   "id": "b51821f9",
   "metadata": {},
   "outputs": [],
   "source": [
    "runner = SilkRunner(silk_config, checkpoint)\n",
    "estimated_poses = runner.run(loader)"
   ]
  },
  {
   "cell_type": "code",
   "execution_count": null,
   "id": "63e233ab",
   "metadata": {
    "scrolled": true
   },
   "outputs": [],
   "source": [
    "results = Eval.fromMapFree(estimated_poses, dataset)"
   ]
  },
  {
   "cell_type": "code",
   "execution_count": null,
   "id": "625ff335",
   "metadata": {},
   "outputs": [],
   "source": [
    "eval_results = results"
   ]
  },
  {
   "cell_type": "code",
   "execution_count": null,
   "id": "6163479a",
   "metadata": {},
   "outputs": [],
   "source": [
    "results = eval_results.results"
   ]
  },
  {
   "cell_type": "code",
   "execution_count": null,
   "id": "0bcbed65",
   "metadata": {},
   "outputs": [],
   "source": [
    "results.keys()"
   ]
  },
  {
   "cell_type": "code",
   "execution_count": null,
   "id": "167c2935",
   "metadata": {},
   "outputs": [],
   "source": [
    "import statistics\n",
    "\n",
    "statistics.mean(results['trans_err'])"
   ]
  },
  {
   "cell_type": "code",
   "execution_count": null,
   "id": "e8ef694d",
   "metadata": {},
   "outputs": [],
   "source": [
    "statistics.median(results['trans_err'])"
   ]
  },
  {
   "cell_type": "code",
   "execution_count": null,
   "id": "e9b34864",
   "metadata": {},
   "outputs": [],
   "source": [
    "for k in results.keys():\n",
    "    print(f\"{k} median: {statistics.median(results[k])}\")\n",
    "    print(f\"{k} mean: {statistics.mean(results[k])}\")"
   ]
  }
 ],
 "metadata": {
  "kernelspec": {
   "display_name": "Python 3 (ipykernel)",
   "language": "python",
   "name": "python3"
  },
  "language_info": {
   "codemirror_mode": {
    "name": "ipython",
    "version": 3
   },
   "file_extension": ".py",
   "mimetype": "text/x-python",
   "name": "python",
   "nbconvert_exporter": "python",
   "pygments_lexer": "ipython3",
   "version": "3.8.12"
  }
 },
 "nbformat": 4,
 "nbformat_minor": 5
}
