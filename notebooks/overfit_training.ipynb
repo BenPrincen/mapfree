{
 "cells": [
  {
   "cell_type": "code",
   "execution_count": null,
   "id": "c87ae60e-bf57-4045-b1eb-c6f55b973f37",
   "metadata": {},
   "outputs": [],
   "source": [
    "%load_ext autoreload\n",
    "%autoreload 2\n",
    "import torch\n",
    "import pytorch_lightning as pl\n",
    "import os\n",
    "import sys"
   ]
  },
  {
   "cell_type": "code",
   "execution_count": null,
   "id": "53ed359c-1177-45d7-ac96-ee2d98400927",
   "metadata": {},
   "outputs": [],
   "source": [
    "# Note this notebook uses libs from MicKey\n",
    "HOME = os.environ[\"HOME\"]\n",
    "mickey_path = os.path.join(HOME, \"map_free_localization/mickey\")\n",
    "\n",
    "if os.path.exists(mickey_path):\n",
    "    sys.path.append(mickey_path)\n"
   ]
  },
  {
   "cell_type": "code",
   "execution_count": null,
   "id": "1e12191d-6ff4-4762-b729-cec23f5ff055",
   "metadata": {},
   "outputs": [],
   "source": [
    "from torch.utils.data import DataLoader\n",
    "from lib.datasets.mapfree import MapFreeDataset\n",
    "from config.default import cfg\n"
   ]
  },
  {
   "cell_type": "code",
   "execution_count": null,
   "id": "202de497-1bfc-413c-90bd-2f3e2ae3b8ed",
   "metadata": {},
   "outputs": [],
   "source": [
    "data_dir = os.path.join(mickey_path, \"config/datasets\")\n",
    "config_path = os.path.join(data_dir, \"mapfree.yaml\")\n",
    "config = cfg\n",
    "config.set_new_allowed(True)\n",
    "config.DEBUG = False\n",
    "\n",
    "dataset_dir = \"/media/jprincen/HD/Map Free Localization\"\n",
    "if os.path.exists(config_path):\n",
    "    config.merge_from_file(config_path)\n",
    "    # explicitely setting to None because if loading from yaml it's a string\n",
    "    config.DATASET.SCENES = ['s00001']\n",
    "    # config.DATASET.SCENES = None\n",
    "    config.DATASET.AUGMENTATION_TYPE = None\n",
    "    config.DATASET.DATA_ROOT = dataset_dir\n",
    "else:\n",
    "    print(\"Config does not exist\")\n",
    "\n",
    "dataset = MapFreeDataset(config, \"val\")\n"
   ]
  },
  {
   "cell_type": "code",
   "execution_count": null,
   "id": "781a17c3-5074-4a96-914d-926331081f4c",
   "metadata": {},
   "outputs": [],
   "source": [
    "# We need model checkpoint, configs for training"
   ]
  },
  {
   "cell_type": "code",
   "execution_count": null,
   "id": "bba1f305-c423-4a25-929b-fcf6295f616f",
   "metadata": {},
   "outputs": [],
   "source": [
    "from lib.models.MicKey.model import MicKeyTrainingModel\n",
    "config_dir = os.path.join(mickey_path, \"config/MicKey\")\n",
    "config_path = os.path.join(config_dir, \"curriculum_learning.yaml\")\n",
    "config = cfg\n",
    "config.set_new_allowed(True)\n",
    "config.DEBUG = False\n",
    "if os.path.exists(config_path):\n",
    "    config.merge_from_file(config_path)\n",
    "\n",
    "config.TRAINING.NUM_GPUS = 1\n",
    "config.BATCH_SIZE = 4\n",
    "config.NUM_WORKERS = 4\n",
    "config.SAMPLER = None\n",
    "\n",
    "tcfg = config.TRAINING\n",
    "checkpoint_path = os.path.join(mickey_path, \"mickey_weights/mickey.ckpt\")\n",
    "model = MicKeyTrainingModel(config)"
   ]
  },
  {
   "cell_type": "code",
   "execution_count": null,
   "id": "327aaa15-0710-4ec9-b685-6c90c95616d4",
   "metadata": {},
   "outputs": [],
   "source": [
    "from pytorch_lightning.loggers import TensorBoardLogger\n",
    "exp_name = 'overfit_small_seq2'\n",
    "logger = TensorBoardLogger(save_dir='../weights', name=exp_name)\n"
   ]
  },
  {
   "cell_type": "code",
   "execution_count": null,
   "id": "1f8a8391-0376-4aa4-98b9-72a3aeb002f0",
   "metadata": {},
   "outputs": [],
   "source": [
    "trainer = pl.Trainer(devices=config.TRAINING.NUM_GPUS,\n",
    "                         # log_every_n_steps=config.TRAINING.LOG_INTERVAL,\n",
    "                         log_every_n_steps=1,\n",
    "                         # max_epochs=config.TRAINING.EPOCHS,\n",
    "                         max_epochs=30,\n",
    "                         logger=logger,\n",
    "                         # gradient_clip_val=config.TRAINING.GRAD_CLIP\n",
    "                    )\n"
   ]
  },
  {
   "cell_type": "code",
   "execution_count": null,
   "id": "a1cbe73f-13b9-4f45-bd4e-07124d90c97b",
   "metadata": {},
   "outputs": [],
   "source": [
    "dataloader = DataLoader(dataset,\n",
    "                        batch_size=config.BATCH_SIZE,\n",
    "                        num_workers=config.NUM_WORKERS)\n"
   ]
  },
  {
   "cell_type": "code",
   "execution_count": null,
   "id": "84a652bd-a73a-4b40-9883-7b8ba03b92ad",
   "metadata": {},
   "outputs": [],
   "source": [
    "trainer.fit(model, train_dataloaders=dataloader, ckpt_path=checkpoint_path)"
   ]
  },
  {
   "cell_type": "code",
   "execution_count": null,
   "id": "53e47373-1f6c-48e6-a190-f521aee20345",
   "metadata": {},
   "outputs": [],
   "source": [
    "trainer.save_checkpoint(os.path.join(\"../mickey_weights\", \"overfit.ckpt\"))\n"
   ]
  },
  {
   "cell_type": "code",
   "execution_count": null,
   "id": "f9d87cfc-78e2-4484-b459-6febc75d3cb8",
   "metadata": {},
   "outputs": [],
   "source": []
  }
 ],
 "metadata": {
  "kernelspec": {
   "display_name": "mickey",
   "language": "python",
   "name": "mickey"
  },
  "language_info": {
   "codemirror_mode": {
    "name": "ipython",
    "version": 3
   },
   "file_extension": ".py",
   "mimetype": "text/x-python",
   "name": "python",
   "nbconvert_exporter": "python",
   "pygments_lexer": "ipython3",
   "version": "3.8.17"
  }
 },
 "nbformat": 4,
 "nbformat_minor": 5
}
